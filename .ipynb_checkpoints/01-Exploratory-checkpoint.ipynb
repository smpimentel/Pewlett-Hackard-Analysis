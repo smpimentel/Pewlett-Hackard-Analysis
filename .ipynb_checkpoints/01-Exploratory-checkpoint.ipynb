{
 "cells": [
  {
   "cell_type": "code",
   "execution_count": 1,
   "id": "0b166edf",
   "metadata": {},
   "outputs": [],
   "source": [
    "import pandas as pd\n",
    "import numpy as np\n",
    "import matplotlib.pyplot as plt\n",
    "%matplotlib inline\n",
    "plt.style.use('ggplot')"
   ]
  },
  {
   "cell_type": "markdown",
   "id": "e32b7422",
   "metadata": {},
   "source": [
    "# Exploring the Data"
   ]
  },
  {
   "cell_type": "markdown",
   "id": "954c5ab7",
   "metadata": {},
   "source": [
    "**Questions We are looking to answer:**\n",
    "1. Who will be eligible for retirement in the next 5 few years \n",
    "    * Those who are 65+ years old \n",
    "    * Which department do they work in\n",
    "2. How many positions will need to be filled\n",
    "    * Organize by department\n",
    "    * Order of magnitude by department"
   ]
  },
  {
   "cell_type": "markdown",
   "id": "e1ae2b41",
   "metadata": {},
   "source": [
    "## Who is Eligible for Retirement?"
   ]
  },
  {
   "cell_type": "markdown",
   "id": "fd0ec2d3",
   "metadata": {},
   "source": [
    "Below is a function to create a pie chart that compares the number of employees \n",
    "eligible for retirment to the entire employee total. With <mark>300,024</mark> employees total\n",
    "<mark>41,380</mark> of them will be over the age of 65 in the next 5 years."
   ]
  },
  {
   "cell_type": "code",
   "execution_count": 6,
   "id": "2ecdae10",
   "metadata": {},
   "outputs": [
    {
     "data": {
      "image/png": "[encoded data removed]",
      "text/plain": [
       "<Figure size 720x504 with 1 Axes>"
      ]
     },
     "metadata": {},
     "output_type": "display_data"
    },
    {
     "name": "stdout",
     "output_type": "stream",
     "text": [
      "There are 240124 employees total.\n",
      "33118 will be over the age of 65 in the next 5 years.\n"
     ]
    }
   ],
   "source": [
    "# bring in the csv files with the panda read into df and taking the lenght of each file\n",
    "total = len(pd.read_csv('data/current_emp.csv'))\n",
    "compare = len(pd.read_csv('data/retirement_eligibility.csv'))\n",
    "\n",
    "# this function takes in two arguments (employee total value and the retirement total value)\n",
    "# it then calc the percentage relationship between the two values and charts them into a pie chart\n",
    "# using matplotlib.\n",
    "def pie_chart(total, compare, c1='forestgreen', c2='gold'):\n",
    "    et_percent = round(((total - compare) / total) * 100)\n",
    "    rt_percent = round((compare / total) * 100)\n",
    "\n",
    "    status = [f'{et_percent}%', f'{rt_percent}%']\n",
    "    status_lgd = ['Not Eligible', 'Eligible']\n",
    "    data = [total, compare]\n",
    "    # plot settings\n",
    "    colors = (c1, c2)\n",
    "    explode = (0.1, 0.0)\n",
    "    # sizing the chart\n",
    "    fig = plt.figure(figsize =(10, 7))\n",
    "    # creating the plot\n",
    "    pie = plt.pie(data, \n",
    "                  explode = explode, \n",
    "                  labels = status,\n",
    "                  shadow = True,\n",
    "                  colors = colors,\n",
    "                  startangle = 90,\n",
    "                  textprops = dict(color =\"white\"))\n",
    "    # plot title and legend\n",
    "    plt.title(\"Employees Eligible For Retirement \\n(In the Next 5 Years)\", c='white')\n",
    "    l = plt.legend(status_lgd,\n",
    "                title =\"Status\",\n",
    "                loc =\"center left\",\n",
    "                bbox_to_anchor =(1, 0, 0.5, 1))\n",
    "    plt.setp(l.get_title(), color='white')\n",
    "    plt.setp(l.get_texts(), color='white')\n",
    "    plt.savefig('analysis/pie_chart_01.png', dpi=200, transparent=True, bbox_inches='tight')\n",
    "    plt.show(pie)\n",
    "    \n",
    "# We are calling upon our function to create a pie chart\n",
    "pie_chart(total, compare)\n",
    "print(f'There are {total} employees total.')\n",
    "print(f'{compare} will be over the age of 65 in the next 5 years.')"
   ]
  },
  {
   "cell_type": "code",
   "execution_count": 11,
   "id": "83f499e7",
   "metadata": {},
   "outputs": [
    {
     "data": {
      "image/png": "[encoded data removed]",
      "text/plain": [
       "<Figure size 720x360 with 1 Axes>"
      ]
     },
     "metadata": {},
     "output_type": "display_data"
    }
   ],
   "source": [
    "data = pd.read_csv('data/retirement_eligibility.csv')\n",
    "\n",
    "def bar_chart(df):\n",
    "    # We want to create a bar chart with groupby.title as the x and sum(groupby.title) as the y\n",
    "    df = df.groupby(['dept_name']).count()\n",
    "    df = df.drop(['first_name', 'last_name'], axis=1)\n",
    "    # groupby is not a dataframe so you need to convert it back to one\n",
    "    df = df.reset_index()\n",
    "    df = df.rename(columns={'emp_no': 'total'})\n",
    "    # Creating the Bar graph\n",
    "    df.plot(kind='bar', \n",
    "            x='dept_name', \n",
    "            y='total', \n",
    "            figsize=(10,5),\n",
    "            legend=None,\n",
    "            grid=False,\n",
    "            colormap='winter')\n",
    "    plt.tick_params(axis='x', colors='white')\n",
    "    plt.tick_params(axis='y', colors='white')\n",
    "    plt.title('Number of Employees Eligible by Department', c='white')\n",
    "    plt.xlabel('Departments', c='white')\n",
    "    plt.ylabel('Number of Employees', c='white')\n",
    "    # Set the labels\n",
    "    ax = plt.gca()\n",
    "    ax.set_xticklabels(df['dept_name'])\n",
    "    # rotate axis labels\n",
    "    plt.setp(plt.gca().get_xticklabels(), rotation=45, horizontalalignment='right', wrap=True)\n",
    "    # Add the total label value to each bar\n",
    "    for p in ax.patches:\n",
    "        ax.text(p.get_x() + p.get_width()/2., p.get_height(), '%d' % int(p.get_height()), \n",
    "                fontsize=10, color='white', ha='center', va='bottom')\n",
    "    plt.savefig('analysis/bar_chart.png', dpi=200, transparent=True, bbox_inches='tight')\n",
    "    plt.show()\n",
    "    \n",
    "bar_chart(data)"
   ]
  },
  {
   "cell_type": "code",
   "execution_count": null,
   "id": "676a49b9",
   "metadata": {},
   "outputs": [],
   "source": []
  }
 ],
 "metadata": {
  "kernelspec": {
   "display_name": "Python 3 (ipykernel)",
   "language": "python",
   "name": "python3"
  },
  "language_info": {
   "codemirror_mode": {
    "name": "ipython",
    "version": 3
   },
   "file_extension": ".py",
   "mimetype": "text/x-python",
   "name": "python",
   "nbconvert_exporter": "python",
   "pygments_lexer": "ipython3",
   "version": "3.9.7"
  }
 },
 "nbformat": 4,
 "nbformat_minor": 5
}
